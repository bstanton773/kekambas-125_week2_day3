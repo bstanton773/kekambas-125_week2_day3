{
 "cells": [
  {
   "cell_type": "markdown",
   "metadata": {},
   "source": [
    "# Functions"
   ]
  },
  {
   "cell_type": "markdown",
   "metadata": {},
   "source": [
    "#### Warm up"
   ]
  },
  {
   "cell_type": "code",
   "execution_count": 1,
   "metadata": {},
   "outputs": [
    {
     "name": "stdout",
     "output_type": "stream",
     "text": [
      "['The Beatles', 'The Rolling Stones', 'The Eagles', 'The Temptations']\n"
     ]
    }
   ],
   "source": [
    "bands1 = ['  thE beATles   ', 'tHe RoLLing sTones..', '.,tHe eagles', 'the tEMptationS  ']\n",
    "\n",
    "fixed_bands1 = [band.title().strip(' ,.') for band in bands1]\n",
    "print(fixed_bands1)"
   ]
  },
  {
   "cell_type": "code",
   "execution_count": null,
   "metadata": {},
   "outputs": [],
   "source": [
    "# Output: ['The Beatles', 'The Rolling Stones', etc]"
   ]
  },
  {
   "cell_type": "code",
   "execution_count": 2,
   "metadata": {
    "scrolled": true
   },
   "outputs": [
    {
     "name": "stdout",
     "output_type": "stream",
     "text": [
      "['The Who', 'The Doors', 'The Band', 'The Kinks']\n"
     ]
    }
   ],
   "source": [
    "bands2 = [' The whO  ', '  .   , tHE dOORS  ', ' the bAnd   ', '...,  THE kINks    ']\n",
    "\n",
    "fixed_bands2 = [band.title().strip(' ,.') for band in bands2]\n",
    "print(fixed_bands2)"
   ]
  },
  {
   "cell_type": "markdown",
   "metadata": {},
   "source": [
    "## Functions"
   ]
  },
  {
   "cell_type": "code",
   "execution_count": 3,
   "metadata": {},
   "outputs": [],
   "source": [
    "# DRY principle\n",
    "# DONT\n",
    "# REPEAT\n",
    "# YOURSELF"
   ]
  },
  {
   "cell_type": "markdown",
   "metadata": {},
   "source": [
    "##### User-Defined vs. Built-In Function"
   ]
  },
  {
   "cell_type": "code",
   "execution_count": 5,
   "metadata": {},
   "outputs": [
    {
     "name": "stdout",
     "output_type": "stream",
     "text": [
      "<built-in function max>\n",
      "Help on built-in function max in module builtins:\n",
      "\n",
      "max(...)\n",
      "    max(iterable, *[, default=obj, key=func]) -> value\n",
      "    max(arg1, arg2, *args, *[, key=func]) -> value\n",
      "    \n",
      "    With a single iterable argument, return its biggest item. The\n",
      "    default keyword-only argument specifies an object to return if\n",
      "    the provided iterable is empty.\n",
      "    With two or more arguments, return the largest argument.\n",
      "\n"
     ]
    }
   ],
   "source": [
    "# Built-in functions\n",
    "print(max)\n",
    "help(max)"
   ]
  },
  {
   "cell_type": "code",
   "execution_count": 6,
   "metadata": {},
   "outputs": [],
   "source": [
    "# User Defined Function\n",
    "# Syntax: def function_name():\n",
    "#             <CODE TO EXECUTE WHEN CALLED>\n",
    "\n",
    "# Creating a function\n",
    "def say_hello():\n",
    "    print('Hello World')\n"
   ]
  },
  {
   "cell_type": "code",
   "execution_count": 8,
   "metadata": {},
   "outputs": [
    {
     "name": "stdout",
     "output_type": "stream",
     "text": [
      "<function say_hello at 0x000001BC24118700>\n"
     ]
    },
    {
     "data": {
      "text/plain": [
       "<function __main__.say_hello()>"
      ]
     },
     "execution_count": 8,
     "metadata": {},
     "output_type": "execute_result"
    }
   ],
   "source": [
    "print(say_hello)\n",
    "say_hello"
   ]
  },
  {
   "cell_type": "code",
   "execution_count": 9,
   "metadata": {},
   "outputs": [
    {
     "name": "stdout",
     "output_type": "stream",
     "text": [
      "Help on function say_hello in module __main__:\n",
      "\n",
      "say_hello()\n",
      "    # Creating a function\n",
      "\n"
     ]
    }
   ],
   "source": [
    "help(say_hello)"
   ]
  },
  {
   "cell_type": "code",
   "execution_count": 13,
   "metadata": {},
   "outputs": [
    {
     "name": "stdout",
     "output_type": "stream",
     "text": [
      "Hello World\n"
     ]
    }
   ],
   "source": [
    "# Executing a function\n",
    "# Syntax: function_name()\n",
    "\n",
    "say_hello() # Executing the function - don't forget the ()!"
   ]
  },
  {
   "cell_type": "code",
   "execution_count": 15,
   "metadata": {},
   "outputs": [
    {
     "name": "stdout",
     "output_type": "stream",
     "text": [
      "Hello World\n"
     ]
    }
   ],
   "source": [
    "say_hello()"
   ]
  },
  {
   "cell_type": "markdown",
   "metadata": {},
   "source": [
    "##### Accepting Parameters"
   ]
  },
  {
   "cell_type": "code",
   "execution_count": 29,
   "metadata": {},
   "outputs": [
    {
     "name": "stdout",
     "output_type": "stream",
     "text": [
      "Hello Brian Stanton! How are you doing today?\n"
     ]
    }
   ],
   "source": [
    "# Syntax: def function_name(param1, param2):\n",
    "#             <CODE TO EXECUTE with variable param1 and param2>\n",
    "def say_hello_again(first, last): # ,- first and last are parameters (aka placeholders)\n",
    "    print(f\"Hello {first.title()} {last.title()}! How are you doing today?\")\n",
    "\n",
    "    \n",
    "# Execute\n",
    "# Syntax: function_name(data1, data2)\n",
    "say_hello_again('Brian', 'Stanton') # 'Brian' and 'Stanton' are arguments (aka real data)"
   ]
  },
  {
   "cell_type": "code",
   "execution_count": 30,
   "metadata": {},
   "outputs": [
    {
     "name": "stdout",
     "output_type": "stream",
     "text": [
      "Hello Sarah Stodder! How are you doing today?\n"
     ]
    }
   ],
   "source": [
    "say_hello_again('sarah', 'STODDER')"
   ]
  },
  {
   "cell_type": "code",
   "execution_count": 31,
   "metadata": {},
   "outputs": [
    {
     "name": "stdout",
     "output_type": "stream",
     "text": [
      "Hello Stanton Brian! How are you doing today?\n"
     ]
    }
   ],
   "source": [
    "say_hello_again(\"Stanton\", \"Brian\") # Position Matters!"
   ]
  },
  {
   "cell_type": "markdown",
   "metadata": {},
   "source": [
    "##### Passing in variables as parameters"
   ]
  },
  {
   "cell_type": "code",
   "execution_count": 33,
   "metadata": {},
   "outputs": [],
   "source": [
    "city1 = 'Boston'\n",
    "state1 = 'MA'\n",
    "zip_code1 = '02215'\n",
    "\n",
    "city2 = 'New York'\n",
    "state2 = 'NY'\n",
    "zip_code2 = '10451'"
   ]
  },
  {
   "cell_type": "code",
   "execution_count": 34,
   "metadata": {},
   "outputs": [],
   "source": [
    "# Function to fomat an address -> City, State -- Zip Code\n",
    "\n",
    "def format_address(city_name, state_code, zip_code):\n",
    "    print(f\"{city_name}, {state_code} -- {zip_code}\")"
   ]
  },
  {
   "cell_type": "code",
   "execution_count": 35,
   "metadata": {},
   "outputs": [
    {
     "name": "stdout",
     "output_type": "stream",
     "text": [
      "Chicago, IL -- 60623\n"
     ]
    }
   ],
   "source": [
    "format_address('Chicago', 'IL', '60623')"
   ]
  },
  {
   "cell_type": "code",
   "execution_count": 36,
   "metadata": {},
   "outputs": [
    {
     "name": "stdout",
     "output_type": "stream",
     "text": [
      "Boston, MA -- 02215\n"
     ]
    }
   ],
   "source": [
    "format_address(city1, state1, zip_code1)"
   ]
  },
  {
   "cell_type": "code",
   "execution_count": 38,
   "metadata": {},
   "outputs": [
    {
     "name": "stdout",
     "output_type": "stream",
     "text": [
      "Hello Michael Jordan! How are you doing today?\n"
     ]
    }
   ],
   "source": [
    "first = 'Michael'\n",
    "last = 'Jordan'\n",
    "\n",
    "say_hello_again(first, last)"
   ]
  },
  {
   "cell_type": "markdown",
   "metadata": {},
   "source": [
    "##### Keyword Arguments"
   ]
  },
  {
   "cell_type": "code",
   "execution_count": 43,
   "metadata": {},
   "outputs": [],
   "source": [
    "# Function for making a payment to a loan\n",
    "\n",
    "def make_a_payment(total_amount_due, amount_paid, account_number):\n",
    "    new_total = total_amount_due - amount_paid\n",
    "    print(f\"You have made a payment of ${amount_paid} to Account #{account_number}.\")\n",
    "    print(f\"Your new balance is ${new_total}.\")\n",
    "    print(\"Thank you for your payment.\")"
   ]
  },
  {
   "cell_type": "code",
   "execution_count": 44,
   "metadata": {},
   "outputs": [
    {
     "name": "stdout",
     "output_type": "stream",
     "text": [
      "You have made a payment of $100 to Account #287432848.\n",
      "Your new balance is $900.\n",
      "Thank you for your payment.\n"
     ]
    }
   ],
   "source": [
    "make_a_payment(1000, 100, '287432848')"
   ]
  },
  {
   "cell_type": "code",
   "execution_count": 45,
   "metadata": {},
   "outputs": [
    {
     "name": "stdout",
     "output_type": "stream",
     "text": [
      "You have made a payment of $500 to Account #324234324.\n",
      "Your new balance is $1500.\n",
      "Thank you for your payment.\n"
     ]
    }
   ],
   "source": [
    "# function_name(param_name=arg_value, etc.)\n",
    "\n",
    "make_a_payment(amount_paid=500, account_number='324234324', total_amount_due=2000)"
   ]
  },
  {
   "cell_type": "code",
   "execution_count": 47,
   "metadata": {},
   "outputs": [
    {
     "name": "stdout",
     "output_type": "stream",
     "text": [
      "You have made a payment of $1000 to Account #9786756789.\n",
      "Your new balance is $4000.\n",
      "Thank you for your payment.\n"
     ]
    }
   ],
   "source": [
    "# combo of positional and keyword works\n",
    "\n",
    "make_a_payment(5000, account_number='9786756789', amount_paid=1000)"
   ]
  },
  {
   "cell_type": "code",
   "execution_count": 49,
   "metadata": {},
   "outputs": [],
   "source": [
    "# positional arguments MUST COME BEFORE any keyword arguments\n",
    "\n",
    "# make_a_payment(account_number='3846347834', 10000, 2000) # SyntaxError!"
   ]
  },
  {
   "cell_type": "markdown",
   "metadata": {},
   "source": [
    "##### Default Parameters"
   ]
  },
  {
   "cell_type": "code",
   "execution_count": 54,
   "metadata": {
    "scrolled": true
   },
   "outputs": [],
   "source": [
    "# default parameters need to be AFTER non-default at all times\n",
    "\n",
    "def make_a_burger(customer_name, cheese=True, lettuce=True, tomato=True, onions=None, bacon=0):\n",
    "    total_price = 4.50\n",
    "    receipt = f\"Thank you {customer_name}. Here is your receipt:\\n\"\n",
    "    receipt += \"1 Hamburger\\n\"\n",
    "    if cheese:\n",
    "        receipt += \"\\twith cheese\\n\"\n",
    "    if lettuce:\n",
    "        receipt += \"\\twith lettuce\\n\"\n",
    "    if tomato:\n",
    "        receipt += \"\\twith tomato\\n\"\n",
    "    if onions:\n",
    "        receipt += f\"\\twith {onions} onions\\n\"\n",
    "    if bacon:\n",
    "        receipt += f\"\\twith {bacon} pieces of bacon\\n\"\n",
    "        total_price += .75*bacon\n",
    "    receipt += f\"Total: ${total_price:.2f}\"\n",
    "    print(receipt)"
   ]
  },
  {
   "cell_type": "code",
   "execution_count": 55,
   "metadata": {
    "scrolled": true
   },
   "outputs": [
    {
     "name": "stdout",
     "output_type": "stream",
     "text": [
      "Thank you Brian. Here is your receipt:\n",
      "1 Hamburger\n",
      "\twith cheese\n",
      "\twith lettuce\n",
      "\twith tomato\n",
      "Total: $4.50\n"
     ]
    }
   ],
   "source": [
    "make_a_burger('Brian')"
   ]
  },
  {
   "cell_type": "code",
   "execution_count": 56,
   "metadata": {},
   "outputs": [
    {
     "name": "stdout",
     "output_type": "stream",
     "text": [
      "Thank you Dan. Here is your receipt:\n",
      "1 Hamburger\n",
      "\twith lettuce\n",
      "\twith tomato\n",
      "Total: $4.50\n"
     ]
    }
   ],
   "source": [
    "make_a_burger('Dan', False)"
   ]
  },
  {
   "cell_type": "code",
   "execution_count": 57,
   "metadata": {},
   "outputs": [
    {
     "name": "stdout",
     "output_type": "stream",
     "text": [
      "Thank you Jackie. Here is your receipt:\n",
      "1 Hamburger\n",
      "\twith cheese\n",
      "\twith lettuce\n",
      "\twith tomato\n",
      "\twith 2 pieces of bacon\n",
      "Total: $6.00\n"
     ]
    }
   ],
   "source": [
    "make_a_burger('Jackie', True, True, True, None, 2)"
   ]
  },
  {
   "cell_type": "code",
   "execution_count": 59,
   "metadata": {},
   "outputs": [
    {
     "name": "stdout",
     "output_type": "stream",
     "text": [
      "Thank you Sally. Here is your receipt:\n",
      "1 Hamburger\n",
      "\twith cheese\n",
      "\twith lettuce\n",
      "\twith tomato\n",
      "\twith grilled onions\n",
      "\twith 3 pieces of bacon\n",
      "Total: $6.75\n"
     ]
    }
   ],
   "source": [
    "make_a_burger('Sally', bacon=3, onions='grilled')"
   ]
  },
  {
   "cell_type": "markdown",
   "metadata": {},
   "source": [
    "##### \\*args and **kwargs"
   ]
  },
  {
   "cell_type": "code",
   "execution_count": 60,
   "metadata": {},
   "outputs": [
    {
     "name": "stdout",
     "output_type": "stream",
     "text": [
      "Help on built-in function min in module builtins:\n",
      "\n",
      "min(...)\n",
      "    min(iterable, *[, default=obj, key=func]) -> value\n",
      "    min(arg1, arg2, *args, *[, key=func]) -> value\n",
      "    \n",
      "    With a single iterable argument, return its smallest item. The\n",
      "    default keyword-only argument specifies an object to return if\n",
      "    the provided iterable is empty.\n",
      "    With two or more arguments, return the smallest argument.\n",
      "\n"
     ]
    }
   ],
   "source": [
    "help(min)"
   ]
  },
  {
   "cell_type": "code",
   "execution_count": 62,
   "metadata": {
    "scrolled": true
   },
   "outputs": [
    {
     "data": {
      "text/plain": [
       "1"
      ]
     },
     "execution_count": 62,
     "metadata": {},
     "output_type": "execute_result"
    }
   ],
   "source": [
    "min(10, 15, 3, 6, 1, 7, 9, 4, 2,12)"
   ]
  },
  {
   "cell_type": "code",
   "execution_count": 71,
   "metadata": {},
   "outputs": [
    {
     "name": "stdout",
     "output_type": "stream",
     "text": [
      "Arg1: 1\n",
      "Args: (2, 3, 3, 4, 5, 6, 34, 5, 3, 23, 34, 5, 3245, 34342) <class 'tuple'>\n"
     ]
    }
   ],
   "source": [
    "def my_function(arg1, *args):\n",
    "    print('Arg1:', arg1)\n",
    "    print('Args:', args, type(args))\n",
    "    \n",
    "my_function(1, 2, 3, 3, 4, 5, 6, 34,5 , 3, 23, 34,5, 3245, 34342)"
   ]
  },
  {
   "cell_type": "code",
   "execution_count": 78,
   "metadata": {},
   "outputs": [
    {
     "name": "stdout",
     "output_type": "stream",
     "text": [
      "(98, 92, 95, 99, 91, 89, 70, 99, 33, 45, 66)\n"
     ]
    },
    {
     "data": {
      "text/plain": [
       "79.72727272727273"
      ]
     },
     "execution_count": 78,
     "metadata": {},
     "output_type": "execute_result"
    }
   ],
   "source": [
    "def average(*nums):\n",
    "    print(nums)\n",
    "    total = 0\n",
    "    for num in nums:\n",
    "        total += num\n",
    "    return total / len(nums)\n",
    "\n",
    "\n",
    "average(98, 92, 95, 99, 91, 89, 70, 99, 33, 45, 66)"
   ]
  },
  {
   "cell_type": "code",
   "execution_count": 89,
   "metadata": {},
   "outputs": [
    {
     "name": "stdout",
     "output_type": "stream",
     "text": [
      "{'name': 'Brian', 'age': 55, 'languages': ['Python', 'JavaScript']}\n",
      "<class 'dict'>\n"
     ]
    }
   ],
   "source": [
    "def another_function(**abc):\n",
    "    print(abc)\n",
    "    print(type(abc))\n",
    "    \n",
    "    \n",
    "another_function(name='Brian', age=55, languages=['Python', 'JavaScript'])"
   ]
  },
  {
   "cell_type": "code",
   "execution_count": 88,
   "metadata": {},
   "outputs": [
    {
     "name": "stdout",
     "output_type": "stream",
     "text": [
      "arg1: A\n",
      "arg2: B\n",
      "args: ('C', 'D', 'E')\n",
      "default: goodbye\n",
      "kwargs: {'test': 123, 'name': 'Brian'}\n"
     ]
    }
   ],
   "source": [
    "def altogether(arg1, arg2, *args, default='hello', **kwargs):\n",
    "    print('arg1:', arg1)\n",
    "    print('arg2:', arg2) \n",
    "    print('args:', args)\n",
    "    print('default:', default)  \n",
    "    print('kwargs:', kwargs) \n",
    "    \n",
    "    \n",
    "altogether('A', 'B', 'C', 'D', 'E', test=123, default='goodbye', name='Brian')"
   ]
  },
  {
   "cell_type": "markdown",
   "metadata": {},
   "source": [
    "#### In Class Exercise 1"
   ]
  },
  {
   "cell_type": "markdown",
   "metadata": {},
   "source": [
    "Create a function that takes in a color, make, and model and formats it into a string.<br>\n",
    "Then loop over the cars list and apply the function to each element.<br>\n",
    "Expected Output:<br>\n",
    "<code>Blue Toyota Tundra\n",
    "Green Chevy Silverado\n",
    "Pink Ford F-150</code>\n"
   ]
  },
  {
   "cell_type": "code",
   "execution_count": 113,
   "metadata": {},
   "outputs": [
    {
     "name": "stdout",
     "output_type": "stream",
     "text": [
      "('blue', 'toyota', 'tundra') <class 'tuple'>\n",
      "('green', 'chevy', 'silverado') <class 'tuple'>\n",
      "('pink', 'ford', 'f-150') <class 'tuple'>\n",
      "('red', 'ford', 'mustang') <class 'tuple'>\n",
      "('yellow', 'toyota', 'prius') <class 'tuple'>\n"
     ]
    }
   ],
   "source": [
    "cars = [\n",
    "    ('blue', 'toyota', 'tundra'), \n",
    "    ('green', 'chevy', 'silverado'), \n",
    "    ('pink', 'ford', 'f-150'), \n",
    "    ('red', 'ford', 'mustang'),\n",
    "    ('yellow', 'toyota', 'prius')\n",
    "]\n",
    "\n",
    "for car in cars:\n",
    "    print(car, type(car))"
   ]
  },
  {
   "cell_type": "code",
   "execution_count": 114,
   "metadata": {},
   "outputs": [],
   "source": [
    "def format_car(color, make, model):\n",
    "    print(f\"{color} {make} {model}\".title())\n",
    "    \n",
    "# format_car('red', 'toyota', 'camry')"
   ]
  },
  {
   "cell_type": "code",
   "execution_count": 115,
   "metadata": {},
   "outputs": [
    {
     "name": "stdout",
     "output_type": "stream",
     "text": [
      "Blue Toyota Tundra\n",
      "Green Chevy Silverado\n",
      "Pink Ford F-150\n",
      "Red Ford Mustang\n",
      "Yellow Toyota Prius\n"
     ]
    }
   ],
   "source": [
    "for car in cars:\n",
    "    format_car(car[0], car[1], car[2])"
   ]
  },
  {
   "cell_type": "code",
   "execution_count": 116,
   "metadata": {},
   "outputs": [
    {
     "name": "stdout",
     "output_type": "stream",
     "text": [
      "Blue Toyota Tundra\n",
      "Green Chevy Silverado\n",
      "Pink Ford F-150\n",
      "Red Ford Mustang\n",
      "Yellow Toyota Prius\n"
     ]
    }
   ],
   "source": [
    "for color, make, model in cars:\n",
    "    format_car(color, make, model)"
   ]
  },
  {
   "cell_type": "code",
   "execution_count": 117,
   "metadata": {},
   "outputs": [
    {
     "name": "stdout",
     "output_type": "stream",
     "text": [
      "('blue', 'toyota', 'tundra')\n",
      "('green', 'chevy', 'silverado')\n",
      "('pink', 'ford', 'f-150')\n",
      "('red', 'ford', 'mustang')\n",
      "('yellow', 'toyota', 'prius')\n"
     ]
    }
   ],
   "source": [
    "for car in cars:\n",
    "    print(car)"
   ]
  },
  {
   "cell_type": "code",
   "execution_count": 118,
   "metadata": {},
   "outputs": [],
   "source": [
    "# Blue Toyota Tundra\n",
    "# Green Chevy Silverado\n",
    "# Pink Ford F-150\n",
    "# Red Ford Mustang\n",
    "# Yellow Toyota Prius"
   ]
  },
  {
   "cell_type": "code",
   "execution_count": 122,
   "metadata": {},
   "outputs": [
    {
     "name": "stdout",
     "output_type": "stream",
     "text": [
      "2020 Green Red Honda Civic\n"
     ]
    }
   ],
   "source": [
    "def format_car_args(*args):\n",
    "    print(' '.join(args).title())\n",
    "        \n",
    "format_car_args('2020', 'green', 'red', 'honda', 'civic')"
   ]
  },
  {
   "cell_type": "code",
   "execution_count": 99,
   "metadata": {},
   "outputs": [
    {
     "name": "stdout",
     "output_type": "stream",
     "text": [
      "Blue Toyota Tundra\n",
      "Green Chevy Silverado\n",
      "Pink Ford F-150\n",
      "Red Ford Mustang\n",
      "Yellow Toyota Prius\n"
     ]
    }
   ],
   "source": [
    "for color, make, model in cars:\n",
    "    format_car(color, make, model)"
   ]
  },
  {
   "cell_type": "code",
   "execution_count": 96,
   "metadata": {},
   "outputs": [
    {
     "name": "stdout",
     "output_type": "stream",
     "text": [
      "Blue Toyota Tundra\n"
     ]
    }
   ],
   "source": [
    "car1 = ('blue', 'toyota', 'tundra')\n",
    "\n",
    "format_car(*car1)"
   ]
  },
  {
   "cell_type": "markdown",
   "metadata": {},
   "source": [
    "## Scope <br>\n",
    "<p>Scope refers to the ability to access variables, different types of scope include:<br>a) Global<br>b) Function (local)<br>c) Class (local)</p>"
   ]
  },
  {
   "cell_type": "code",
   "execution_count": 132,
   "metadata": {},
   "outputs": [
    {
     "name": "stdout",
     "output_type": "stream",
     "text": [
      "Johnny Smith has been assigned to Ms. Buttercup's classroom\n",
      "Little Jimmy has been assigned to Ms. Buttercup's classroom\n"
     ]
    }
   ],
   "source": [
    "student = 'Little Jimmy' # global\n",
    "teacher = 'Ms. Buttercup' # global\n",
    "\n",
    "def assign_student(student_name, teacher_name): # student_name is local variable that is scoped to the function\n",
    "    print(f\"{student_name} has been assigned to {teacher}'s classroom\")\n",
    "    \n",
    "    \n",
    "assign_student('Johnny Smith', 'Mr. Teacher')\n",
    "assign_student(student, 'Mr. Teacher')\n",
    "# print(student_name) # NameError: name 'student_name' is not defined"
   ]
  },
  {
   "cell_type": "code",
   "execution_count": 136,
   "metadata": {},
   "outputs": [],
   "source": [
    "# evens_only = [] # Defined Globally\n",
    "\n",
    "def get_only_evens(list_of_nums):\n",
    "    evens_only = [] # Defined Locally\n",
    "    # Loop through the argument list\n",
    "    for num in list_of_nums:\n",
    "        # Check if the number is even\n",
    "        if num % 2 == 0:\n",
    "            # if it is even, append to the evens_only list\n",
    "            evens_only.append(num)\n",
    "    # Once finished looping, print the evens_only list\n",
    "    print(evens_only)"
   ]
  },
  {
   "cell_type": "code",
   "execution_count": 137,
   "metadata": {},
   "outputs": [
    {
     "name": "stdout",
     "output_type": "stream",
     "text": [
      "[2, 4, 6, 8, 10]\n"
     ]
    }
   ],
   "source": [
    "get_only_evens([1, 2, 3, 4, 5, 6, 7, 8, 9, 10])"
   ]
  },
  {
   "cell_type": "code",
   "execution_count": 138,
   "metadata": {},
   "outputs": [
    {
     "name": "stdout",
     "output_type": "stream",
     "text": [
      "[10, 20, 30, 40, 50]\n"
     ]
    }
   ],
   "source": [
    "get_only_evens([10, 15, 20, 25, 30, 35, 40, 45, 50])"
   ]
  },
  {
   "cell_type": "markdown",
   "metadata": {},
   "source": [
    "##### Returning Values"
   ]
  },
  {
   "cell_type": "code",
   "execution_count": 139,
   "metadata": {},
   "outputs": [
    {
     "name": "stdout",
     "output_type": "stream",
     "text": [
      "10\n"
     ]
    }
   ],
   "source": [
    "# Mathematical Function - y = f(x)\n",
    "# Where f is the function, x is the input(s), and y is the dependent variable (or the return variable)\n",
    "\n",
    "def f(x):\n",
    "    return 2*x\n",
    "\n",
    "\n",
    "y = f(5)\n",
    "print(y)"
   ]
  },
  {
   "cell_type": "code",
   "execution_count": 141,
   "metadata": {},
   "outputs": [
    {
     "name": "stdout",
     "output_type": "stream",
     "text": [
      "20 400\n"
     ]
    }
   ],
   "source": [
    "z = f(10)\n",
    "print(z, z**2)"
   ]
  },
  {
   "cell_type": "code",
   "execution_count": 143,
   "metadata": {
    "scrolled": true
   },
   "outputs": [
    {
     "data": {
      "text/plain": [
       "0"
      ]
     },
     "execution_count": 143,
     "metadata": {},
     "output_type": "execute_result"
    }
   ],
   "source": [
    "# Return will also immediately terminate the function\n",
    "def early_return(n):\n",
    "    for i in range(n):\n",
    "        return i\n",
    "    \n",
    "early_return(100000000)"
   ]
  },
  {
   "cell_type": "code",
   "execution_count": 161,
   "metadata": {},
   "outputs": [
    {
     "name": "stdout",
     "output_type": "stream",
     "text": [
      "0\n",
      "1\n",
      "2\n",
      "3\n",
      "4\n",
      "The return value is: 5\n"
     ]
    }
   ],
   "source": [
    "def another_example(n):\n",
    "    for i in range(n):\n",
    "        if i == 5:\n",
    "            return i\n",
    "        print(i)\n",
    "    print('This is after the for loop')\n",
    "    \n",
    "return_value = another_example(10)\n",
    "print('The return value is:', return_value)"
   ]
  },
  {
   "cell_type": "code",
   "execution_count": 158,
   "metadata": {},
   "outputs": [
    {
     "name": "stdout",
     "output_type": "stream",
     "text": [
      "5\n"
     ]
    }
   ],
   "source": [
    "print(return_value)"
   ]
  },
  {
   "cell_type": "code",
   "execution_count": 162,
   "metadata": {},
   "outputs": [
    {
     "data": {
      "text/plain": [
       "True"
      ]
     },
     "execution_count": 162,
     "metadata": {},
     "output_type": "execute_result"
    }
   ],
   "source": [
    "names = ['Brian', 'Dan', 'Maggie', 'Alisha', 'Frank', 'Kelly', 'Sam']\n",
    "\n",
    "def person_is_in_list(person_name):\n",
    "    for name in names:\n",
    "        if name == person_name:\n",
    "            return True\n",
    "    return False\n",
    "\n",
    "person_is_in_list('Frank')"
   ]
  },
  {
   "cell_type": "code",
   "execution_count": 163,
   "metadata": {},
   "outputs": [
    {
     "data": {
      "text/plain": [
       "False"
      ]
     },
     "execution_count": 163,
     "metadata": {},
     "output_type": "execute_result"
    }
   ],
   "source": [
    "person_is_in_list('Hannah')"
   ]
  },
  {
   "cell_type": "markdown",
   "metadata": {},
   "source": [
    "#### Multiple returns in a function"
   ]
  },
  {
   "cell_type": "code",
   "execution_count": 165,
   "metadata": {},
   "outputs": [
    {
     "name": "stdout",
     "output_type": "stream",
     "text": [
      "False\n",
      "True\n"
     ]
    }
   ],
   "source": [
    "# Function to determine if a person can vote by their birth year\n",
    "\n",
    "def can_vote(birth_year):\n",
    "    if 2023 - birth_year >= 18:\n",
    "        return True\n",
    "    else:\n",
    "        return False\n",
    "    \n",
    "print(can_vote(2010))\n",
    "print(can_vote(2000))"
   ]
  },
  {
   "cell_type": "code",
   "execution_count": 185,
   "metadata": {},
   "outputs": [
    {
     "name": "stdout",
     "output_type": "stream",
     "text": [
      "True\n",
      "False\n"
     ]
    }
   ],
   "source": [
    "def can_vote2(birth_year):\n",
    "    if 2023 - birth_year >= 18:\n",
    "        return True\n",
    "    return False\n",
    "\n",
    "print(can_vote2(2000))\n",
    "print(can_vote2(2010))"
   ]
  },
  {
   "cell_type": "code",
   "execution_count": 186,
   "metadata": {},
   "outputs": [
    {
     "name": "stdout",
     "output_type": "stream",
     "text": [
      "True\n",
      "False\n"
     ]
    }
   ],
   "source": [
    "def can_vote2(birth_year):\n",
    "    if 2023 - birth_year >= 18:\n",
    "        print(True)\n",
    "    print(False)\n",
    "\n",
    "can_vote2(2000)"
   ]
  },
  {
   "cell_type": "code",
   "execution_count": 181,
   "metadata": {
    "scrolled": true
   },
   "outputs": [
    {
     "data": {
      "text/plain": [
       "'07/19/2023'"
      ]
     },
     "execution_count": 181,
     "metadata": {},
     "output_type": "execute_result"
    }
   ],
   "source": [
    "from datetime import datetime\n",
    "\n",
    "now = datetime.utcnow()\n",
    "\n",
    "now.strftime('%m/%d/%Y')\n",
    "\n"
   ]
  },
  {
   "cell_type": "code",
   "execution_count": 188,
   "metadata": {},
   "outputs": [
    {
     "name": "stdout",
     "output_type": "stream",
     "text": [
      "True\n",
      "False\n"
     ]
    }
   ],
   "source": [
    "def can_vote3(birth_year):\n",
    "    return 2023 - birth_year >= 18\n",
    "\n",
    "\n",
    "print(can_vote3(2000))\n",
    "print(can_vote3(2010))"
   ]
  },
  {
   "cell_type": "markdown",
   "metadata": {},
   "source": [
    "##### Difference between `return` and `print`"
   ]
  },
  {
   "cell_type": "code",
   "execution_count": 196,
   "metadata": {},
   "outputs": [],
   "source": [
    "def my_max(*args):\n",
    "    current_max = args[0]\n",
    "    for num in args:\n",
    "        if num > current_max:\n",
    "            current_max = num\n",
    "    return current_max"
   ]
  },
  {
   "cell_type": "code",
   "execution_count": 197,
   "metadata": {},
   "outputs": [
    {
     "data": {
      "text/plain": [
       "72"
      ]
     },
     "execution_count": 197,
     "metadata": {},
     "output_type": "execute_result"
    }
   ],
   "source": [
    "my_max(4, 5, 8, 2, 1, 3, 5, 7, 9, 3, 14, 62, 12, 1, 72, 21, 22, 36)"
   ]
  },
  {
   "cell_type": "code",
   "execution_count": 198,
   "metadata": {},
   "outputs": [
    {
     "name": "stdout",
     "output_type": "stream",
     "text": [
      "Enter Score or type done when done 5\n",
      "Enter Score or type done when done 6\n",
      "Enter Score or type done when done 3\n",
      "Enter Score or type done when done 3\n",
      "Enter Score or type done when done 6\n",
      "Enter Score or type done when done 7\n",
      "Enter Score or type done when done 4\n",
      "Enter Score or type done when done 2\n",
      "Enter Score or type done when done 8\n",
      "Enter Score or type done when done 3\n",
      "Enter Score or type done when done 9\n",
      "Enter Score or type done when done done\n",
      "Congrats to the winner with a top score of 9\n"
     ]
    }
   ],
   "source": [
    "scores = []\n",
    "while True:\n",
    "    score = input('Enter Score or type done when done ').lower()\n",
    "    if score == 'done':\n",
    "        break\n",
    "    scores.append(int(score))\n",
    "    \n",
    "top_score = my_max(*scores)\n",
    "print(f\"Congrats to the winner with a top score of {top_score}\")"
   ]
  },
  {
   "cell_type": "code",
   "execution_count": 199,
   "metadata": {},
   "outputs": [],
   "source": [
    "def create_headline_print(message):\n",
    "    print(message.strip().title() + '!')\n",
    "    \n",
    "def create_headline_return(message):\n",
    "    return message.strip().title() + '!'"
   ]
  },
  {
   "cell_type": "code",
   "execution_count": 208,
   "metadata": {
    "scrolled": true
   },
   "outputs": [],
   "source": [
    "def format_blog_post(headline, author, body):\n",
    "    return f\"\"\"\n",
    "    {headline} by {author}\n",
    "    {body}\n",
    "    \"\"\""
   ]
  },
  {
   "cell_type": "code",
   "execution_count": 210,
   "metadata": {},
   "outputs": [
    {
     "name": "stdout",
     "output_type": "stream",
     "text": [
      "Enter the headline for your post:     pyThOn RUlEs\n",
      "Enter the body of the post: It is a great language\n",
      "Who is the author of the post: Brian\n",
      "\n",
      "    Python Rules! by Brian\n",
      "    It is a great language\n",
      "    \n"
     ]
    }
   ],
   "source": [
    "def publish_article():\n",
    "    headline = input('Enter the headline for your post: ')\n",
    "    body = input('Enter the body of the post: ')\n",
    "    author = input('Who is the author of the post: ')\n",
    "    clean_headline = create_headline_return(headline)\n",
    "    print(format_blog_post(clean_headline, author, body))\n",
    "    \n",
    "\n",
    "publish_article()"
   ]
  },
  {
   "cell_type": "markdown",
   "metadata": {},
   "source": [
    "#### Functions with Lists"
   ]
  },
  {
   "cell_type": "code",
   "execution_count": 211,
   "metadata": {},
   "outputs": [
    {
     "name": "stdout",
     "output_type": "stream",
     "text": [
      "['  thE beATles   ', 'tHe RoLLing sTones..', '.,tHe eagles', 'the tEMptationS  ']\n",
      "[' The whO  ', '  .   , tHE dOORS  ', ' the bAnd   ', '...,  THE kINks    ']\n"
     ]
    }
   ],
   "source": [
    "print(bands1)\n",
    "print(bands2)"
   ]
  },
  {
   "cell_type": "code",
   "execution_count": 212,
   "metadata": {},
   "outputs": [],
   "source": [
    "def clean_band_names(messy_bands_list):\n",
    "    fixed_bands = [band.title().strip(' ,.') for band in messy_bands_list]\n",
    "    return fixed_bands"
   ]
  },
  {
   "cell_type": "code",
   "execution_count": 215,
   "metadata": {},
   "outputs": [],
   "source": [
    "clean_bands1 = clean_band_names(bands1)"
   ]
  },
  {
   "cell_type": "code",
   "execution_count": 216,
   "metadata": {},
   "outputs": [],
   "source": [
    "clean_bands2 = clean_band_names(bands2)"
   ]
  },
  {
   "cell_type": "code",
   "execution_count": 217,
   "metadata": {},
   "outputs": [
    {
     "name": "stdout",
     "output_type": "stream",
     "text": [
      "['The Beatles', 'The Rolling Stones', 'The Eagles', 'The Temptations']\n",
      "['The Who', 'The Doors', 'The Band', 'The Kinks']\n"
     ]
    }
   ],
   "source": [
    "print(clean_bands1)\n",
    "print(clean_bands2)"
   ]
  },
  {
   "cell_type": "code",
   "execution_count": 219,
   "metadata": {},
   "outputs": [
    {
     "name": "stdout",
     "output_type": "stream",
     "text": [
      "['The Beach Boys', 'The Strokes', 'The Killers']\n"
     ]
    }
   ],
   "source": [
    "clean_bands3 = clean_band_names(['   , .tHE BeaCH bOys', '   THE STroKEs    ...', '    thE KilLeRs  ...,'])\n",
    "print(clean_bands3)"
   ]
  },
  {
   "cell_type": "markdown",
   "metadata": {},
   "source": [
    "#### In-Class Exercise 2"
   ]
  },
  {
   "cell_type": "markdown",
   "metadata": {},
   "source": [
    "Create a function that takes in the list of tuples ('city', 'country') and a country name and returns a list of the cities in that country"
   ]
  },
  {
   "cell_type": "code",
   "execution_count": 225,
   "metadata": {},
   "outputs": [
    {
     "name": "stdout",
     "output_type": "stream",
     "text": [
      "['Rome', 'Florence']\n",
      "['Barcelona', 'Madrid']\n",
      "['Sao Paulo', 'Rio De Janeiro']\n"
     ]
    }
   ],
   "source": [
    "euro_cities = [\n",
    "    (\"London\", \"England\"), \n",
    "    (\"Manchester\", \"England\"), \n",
    "    (\"Barcelona\", \"Spain\"), \n",
    "    (\"Madrid\", \"Spain\"), \n",
    "    (\"Rome\", \"Italy\"), \n",
    "    (\"Florence\", \"Italy\")\n",
    "]\n",
    "\n",
    "nor_so_am_cities = [\n",
    "    (\"Mexico City\", \"Mexico\"),\n",
    "    (\"Buenos Aires\", \"Argentina\"),\n",
    "    (\"Sao Paulo\", \"Brazil\"),\n",
    "    (\"Santiago\", \"Chile\"),\n",
    "    (\"Rio De Janeiro\", \"Brazil\")\n",
    "]\n",
    "\n",
    "\n",
    "def cities_in_country(list_of_tuples, country_name):\n",
    "    # Set up our output list\n",
    "    output = []\n",
    "    # loop over the list of tuple\n",
    "    for city, country in list_of_tuples:\n",
    "        # if the 1-index of the tuple (aka the country) matches the country name passed in\n",
    "        if country == country_name:\n",
    "            # add the city of that country to the output list\n",
    "            output.append(city)\n",
    "    # After we have looped through all of the tuples, return the output list\n",
    "    return output\n",
    "\n",
    "\n",
    "print(cities_in_country(euro_cities, 'Italy')) # ['Rome', 'Florence']\n",
    "print(cities_in_country(euro_cities, 'Spain')) # ['Barcelona', 'Madrid']\n",
    "print(cities_in_country(nor_so_am_cities, 'Brazil')) # ['Sao Paolo', 'Rio De Janeiro']"
   ]
  },
  {
   "cell_type": "markdown",
   "metadata": {},
   "source": [
    "#### Docstrings"
   ]
  },
  {
   "cell_type": "code",
   "execution_count": 226,
   "metadata": {},
   "outputs": [
    {
     "name": "stdout",
     "output_type": "stream",
     "text": [
      "Help on built-in function len in module builtins:\n",
      "\n",
      "len(obj, /)\n",
      "    Return the number of items in a container.\n",
      "\n"
     ]
    }
   ],
   "source": [
    "help(len)"
   ]
  },
  {
   "cell_type": "code",
   "execution_count": 227,
   "metadata": {},
   "outputs": [
    {
     "name": "stdout",
     "output_type": "stream",
     "text": [
      "Help on function cities_in_country in module __main__:\n",
      "\n",
      "cities_in_country(list_of_tuples, country_name)\n",
      "\n"
     ]
    }
   ],
   "source": [
    "help(cities_in_country)"
   ]
  },
  {
   "cell_type": "code",
   "execution_count": 229,
   "metadata": {},
   "outputs": [
    {
     "name": "stdout",
     "output_type": "stream",
     "text": [
      "Help on function add_nums in module __main__:\n",
      "\n",
      "add_nums(num1, num2)\n",
      "    add_nums takes in two number types (int or float) and will return the two added together\n",
      "    num1 -> int or float\n",
      "    num2 -> int or float\n",
      "    returns int or float\n",
      "\n"
     ]
    }
   ],
   "source": [
    "def add_nums(num1, num2):\n",
    "    '''\n",
    "    add_nums takes in two number types (int or float) and will return the two added together\n",
    "    num1 -> int or float\n",
    "    num2 -> int or float\n",
    "    returns int or float\n",
    "    '''\n",
    "    return num1 + num2\n",
    "\n",
    "\n",
    "help(add_nums)"
   ]
  },
  {
   "cell_type": "code",
   "execution_count": 230,
   "metadata": {},
   "outputs": [
    {
     "data": {
      "text/plain": [
       "26.4"
      ]
     },
     "execution_count": 230,
     "metadata": {},
     "output_type": "execute_result"
    }
   ],
   "source": [
    "add_nums(23, 3.4)"
   ]
  }
 ],
 "metadata": {
  "kernelspec": {
   "display_name": "Python 3 (ipykernel)",
   "language": "python",
   "name": "python3"
  },
  "language_info": {
   "codemirror_mode": {
    "name": "ipython",
    "version": 3
   },
   "file_extension": ".py",
   "mimetype": "text/x-python",
   "name": "python",
   "nbconvert_exporter": "python",
   "pygments_lexer": "ipython3",
   "version": "3.10.9"
  }
 },
 "nbformat": 4,
 "nbformat_minor": 2
}
